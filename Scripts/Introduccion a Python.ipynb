{
 "cells": [
  {
   "cell_type": "markdown",
   "id": "e48debef",
   "metadata": {},
   "source": [
    "# Introducción a Python\n",
    "### Curso básico"
   ]
  },
  {
   "cell_type": "markdown",
   "id": "56798ae5",
   "metadata": {},
   "source": [
    "**1. Variables**"
   ]
  },
  {
   "cell_type": "code",
   "execution_count": 1,
   "id": "482983c1",
   "metadata": {},
   "outputs": [],
   "source": [
    "name= \"Marcos\"\n",
    "age= 24\n",
    "height= 1.85"
   ]
  },
  {
   "cell_type": "code",
   "execution_count": 2,
   "id": "7cbe4c78",
   "metadata": {},
   "outputs": [
    {
     "data": {
      "text/plain": [
       "str"
      ]
     },
     "execution_count": 2,
     "metadata": {},
     "output_type": "execute_result"
    }
   ],
   "source": [
    "type(name)"
   ]
  },
  {
   "cell_type": "code",
   "execution_count": 3,
   "id": "3d3da978",
   "metadata": {},
   "outputs": [
    {
     "data": {
      "text/plain": [
       "int"
      ]
     },
     "execution_count": 3,
     "metadata": {},
     "output_type": "execute_result"
    }
   ],
   "source": [
    "type(age)"
   ]
  },
  {
   "cell_type": "code",
   "execution_count": 4,
   "id": "a6e8e3cf",
   "metadata": {},
   "outputs": [
    {
     "data": {
      "text/plain": [
       "float"
      ]
     },
     "execution_count": 4,
     "metadata": {},
     "output_type": "execute_result"
    }
   ],
   "source": [
    "type(height)"
   ]
  },
  {
   "cell_type": "code",
   "execution_count": 5,
   "id": "0a8c2147",
   "metadata": {},
   "outputs": [
    {
     "name": "stdout",
     "output_type": "stream",
     "text": [
      "hola Marcos de 24 años\n"
     ]
    }
   ],
   "source": [
    "print(\"hola \"+ name + \" de \"+ str(age)+ \" años\")"
   ]
  },
  {
   "cell_type": "code",
   "execution_count": 6,
   "id": "c9cefaef",
   "metadata": {},
   "outputs": [
    {
     "name": "stdout",
     "output_type": "stream",
     "text": [
      "hola Marcos de 24 años\n"
     ]
    }
   ],
   "source": [
    "print(f\"hola {name} de {age} años\")"
   ]
  },
  {
   "cell_type": "markdown",
   "id": "da2d21b5",
   "metadata": {},
   "source": [
    "**2. Operaciones matemáticas**"
   ]
  },
  {
   "cell_type": "code",
   "execution_count": 7,
   "id": "74fca8e1",
   "metadata": {},
   "outputs": [],
   "source": [
    "x = 10\n",
    "y = -5\n",
    "z = .01"
   ]
  },
  {
   "cell_type": "code",
   "execution_count": 8,
   "id": "2a48daf5",
   "metadata": {},
   "outputs": [
    {
     "data": {
      "text/plain": [
       "5"
      ]
     },
     "execution_count": 8,
     "metadata": {},
     "output_type": "execute_result"
    }
   ],
   "source": [
    "y+x"
   ]
  },
  {
   "cell_type": "code",
   "execution_count": 9,
   "id": "74e58e5b",
   "metadata": {},
   "outputs": [
    {
     "data": {
      "text/plain": [
       "15"
      ]
     },
     "execution_count": 9,
     "metadata": {},
     "output_type": "execute_result"
    }
   ],
   "source": [
    "x-y"
   ]
  },
  {
   "cell_type": "code",
   "execution_count": 10,
   "id": "d6422dc3",
   "metadata": {},
   "outputs": [
    {
     "data": {
      "text/plain": [
       "0.1"
      ]
     },
     "execution_count": 10,
     "metadata": {},
     "output_type": "execute_result"
    }
   ],
   "source": [
    "x*z"
   ]
  },
  {
   "cell_type": "code",
   "execution_count": 11,
   "id": "3189480d",
   "metadata": {},
   "outputs": [
    {
     "data": {
      "text/plain": [
       "1000.0"
      ]
     },
     "execution_count": 11,
     "metadata": {},
     "output_type": "execute_result"
    }
   ],
   "source": [
    "x/z"
   ]
  },
  {
   "cell_type": "code",
   "execution_count": 12,
   "id": "8cc8f1af",
   "metadata": {},
   "outputs": [
    {
     "data": {
      "text/plain": [
       "1.023292992280754"
      ]
     },
     "execution_count": 12,
     "metadata": {},
     "output_type": "execute_result"
    }
   ],
   "source": [
    "10**z"
   ]
  },
  {
   "cell_type": "code",
   "execution_count": 13,
   "id": "bcf77482",
   "metadata": {},
   "outputs": [
    {
     "data": {
      "text/plain": [
       "2.0"
      ]
     },
     "execution_count": 13,
     "metadata": {},
     "output_type": "execute_result"
    }
   ],
   "source": [
    "4**(1/2)"
   ]
  },
  {
   "cell_type": "code",
   "execution_count": 14,
   "id": "086b7626",
   "metadata": {},
   "outputs": [
    {
     "data": {
      "text/plain": [
       "1"
      ]
     },
     "execution_count": 14,
     "metadata": {},
     "output_type": "execute_result"
    }
   ],
   "source": [
    "10%3"
   ]
  },
  {
   "cell_type": "markdown",
   "id": "799caeb8",
   "metadata": {},
   "source": [
    "Invitas 4 amigos a tu casa. Quieren pedir pizzas. Cada pizza tiene 8 rebanadas. Todos quieren comer la misma cantidad de rebanadas y ademas no quieren que sobre ninguna rebanada, ¿Cuantas pizzas deben pedir?"
   ]
  },
  {
   "cell_type": "code",
   "execution_count": 15,
   "id": "2dc075a4",
   "metadata": {},
   "outputs": [
    {
     "name": "stdout",
     "output_type": "stream",
     "text": [
      "Pediste 5 pizzas, lo cual son 40 rebanadas. Sobran 0 rebanadas\n"
     ]
    }
   ],
   "source": [
    "#INPUTS\n",
    "num_pers = 5\n",
    "num_pizza = 5\n",
    "num_reb = 8* num_pizza\n",
    "#ALGORITMO\n",
    "reb_sobrantes = num_reb%num_pers\n",
    "#OUTPUTS\n",
    "print(f\"Pediste {num_pizza} pizzas, lo cual son {num_reb} rebanadas. Sobran {reb_sobrantes} rebanadas\")"
   ]
  },
  {
   "cell_type": "markdown",
   "id": "f7e4f998",
   "metadata": {},
   "source": [
    "**3. Operaciones de comparación**"
   ]
  },
  {
   "cell_type": "code",
   "execution_count": 16,
   "id": "1cfb8dd3",
   "metadata": {},
   "outputs": [],
   "source": [
    "a = 7\n",
    "b = 5"
   ]
  },
  {
   "cell_type": "code",
   "execution_count": 17,
   "id": "bf6b2a70",
   "metadata": {},
   "outputs": [
    {
     "data": {
      "text/plain": [
       "True"
      ]
     },
     "execution_count": 17,
     "metadata": {},
     "output_type": "execute_result"
    }
   ],
   "source": [
    "a>b"
   ]
  },
  {
   "cell_type": "code",
   "execution_count": 18,
   "id": "f14e5781",
   "metadata": {},
   "outputs": [
    {
     "data": {
      "text/plain": [
       "False"
      ]
     },
     "execution_count": 18,
     "metadata": {},
     "output_type": "execute_result"
    }
   ],
   "source": [
    "(a/2*(1.355353535)**282)<b/2"
   ]
  },
  {
   "cell_type": "code",
   "execution_count": 19,
   "id": "e22ff294",
   "metadata": {},
   "outputs": [
    {
     "data": {
      "text/plain": [
       "False"
      ]
     },
     "execution_count": 19,
     "metadata": {},
     "output_type": "execute_result"
    }
   ],
   "source": [
    "a==b"
   ]
  },
  {
   "cell_type": "markdown",
   "id": "b5860cdd",
   "metadata": {},
   "source": [
    "Eres el cadenero en un antro! Solo deja pasar a personas que ya cumplieron los 18 años"
   ]
  },
  {
   "cell_type": "code",
   "execution_count": 20,
   "id": "fefbd47e",
   "metadata": {},
   "outputs": [],
   "source": [
    "edad = 17"
   ]
  },
  {
   "cell_type": "code",
   "execution_count": 21,
   "id": "b70b44f0",
   "metadata": {},
   "outputs": [
    {
     "data": {
      "text/plain": [
       "False"
      ]
     },
     "execution_count": 21,
     "metadata": {},
     "output_type": "execute_result"
    }
   ],
   "source": [
    "edad>=18"
   ]
  },
  {
   "cell_type": "markdown",
   "id": "c949f66a",
   "metadata": {},
   "source": [
    "**4. Operaciones lógicas**"
   ]
  },
  {
   "cell_type": "code",
   "execution_count": 22,
   "id": "1ade32b1",
   "metadata": {},
   "outputs": [
    {
     "data": {
      "text/plain": [
       "True"
      ]
     },
     "execution_count": 22,
     "metadata": {},
     "output_type": "execute_result"
    }
   ],
   "source": [
    "10>5"
   ]
  },
  {
   "cell_type": "code",
   "execution_count": 23,
   "id": "2dfc793d",
   "metadata": {},
   "outputs": [
    {
     "data": {
      "text/plain": [
       "True"
      ]
     },
     "execution_count": 23,
     "metadata": {},
     "output_type": "execute_result"
    }
   ],
   "source": [
    "10>3"
   ]
  },
  {
   "cell_type": "code",
   "execution_count": 24,
   "id": "eda98fcf",
   "metadata": {},
   "outputs": [
    {
     "data": {
      "text/plain": [
       "False"
      ]
     },
     "execution_count": 24,
     "metadata": {},
     "output_type": "execute_result"
    }
   ],
   "source": [
    "10>3 and 10<5"
   ]
  },
  {
   "cell_type": "code",
   "execution_count": 25,
   "id": "07449818",
   "metadata": {},
   "outputs": [
    {
     "data": {
      "text/plain": [
       "True"
      ]
     },
     "execution_count": 25,
     "metadata": {},
     "output_type": "execute_result"
    }
   ],
   "source": [
    "10>5 or 10<3"
   ]
  },
  {
   "cell_type": "markdown",
   "id": "93773a5b",
   "metadata": {},
   "source": [
    "Eres un servidor web. Tienes almacenado la contraseña y el usuario del unico miembro de tu comunidad. Verifica si la contraseña y el usuario son correctos"
   ]
  },
  {
   "cell_type": "code",
   "execution_count": 26,
   "id": "96bf9308",
   "metadata": {},
   "outputs": [],
   "source": [
    "#INFORMACION ORIGINAL\n",
    "password = \"ilovecats\"\n",
    "username = \"marcosraul\""
   ]
  },
  {
   "cell_type": "code",
   "execution_count": 29,
   "id": "78a8d6a3",
   "metadata": {},
   "outputs": [
    {
     "name": "stdout",
     "output_type": "stream",
     "text": [
      "Escribe tu usuario: marcosraul\n",
      "Escribe tu contraseña: jdjdsjs\n"
     ]
    }
   ],
   "source": [
    "usr = input(\"Escribe tu usuario: \")\n",
    "pss = input(\"Escribe tu contraseña: \")"
   ]
  },
  {
   "cell_type": "code",
   "execution_count": 30,
   "id": "74e6f3b7",
   "metadata": {},
   "outputs": [
    {
     "data": {
      "text/plain": [
       "False"
      ]
     },
     "execution_count": 30,
     "metadata": {},
     "output_type": "execute_result"
    }
   ],
   "source": [
    "#PROCESO DE VALIDACION\n",
    "password==pss and username==usr"
   ]
  },
  {
   "cell_type": "markdown",
   "id": "4dacab9a",
   "metadata": {},
   "source": [
    "**5. Condicionales**"
   ]
  },
  {
   "cell_type": "code",
   "execution_count": null,
   "id": "529b2402",
   "metadata": {},
   "outputs": [],
   "source": []
  },
  {
   "cell_type": "code",
   "execution_count": null,
   "id": "062abfd0",
   "metadata": {},
   "outputs": [],
   "source": []
  }
 ],
 "metadata": {
  "kernelspec": {
   "display_name": "Python 3 (ipykernel)",
   "language": "python",
   "name": "python3"
  },
  "language_info": {
   "codemirror_mode": {
    "name": "ipython",
    "version": 3
   },
   "file_extension": ".py",
   "mimetype": "text/x-python",
   "name": "python",
   "nbconvert_exporter": "python",
   "pygments_lexer": "ipython3",
   "version": "3.11.2"
  }
 },
 "nbformat": 4,
 "nbformat_minor": 5
}
