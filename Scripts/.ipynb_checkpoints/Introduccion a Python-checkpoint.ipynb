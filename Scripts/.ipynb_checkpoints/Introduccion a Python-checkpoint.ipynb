{
 "cells": [
  {
   "cell_type": "markdown",
   "id": "e48debef",
   "metadata": {},
   "source": [
    "# Introducción a Python\n",
    "### Curso básico"
   ]
  },
  {
   "cell_type": "markdown",
   "id": "56798ae5",
   "metadata": {},
   "source": [
    "**1. Variables**"
   ]
  },
  {
   "cell_type": "code",
   "execution_count": 1,
   "id": "482983c1",
   "metadata": {},
   "outputs": [],
   "source": [
    "name= \"Marcos\"\n",
    "age= 24\n",
    "height= 1.85"
   ]
  },
  {
   "cell_type": "code",
   "execution_count": 2,
   "id": "7cbe4c78",
   "metadata": {},
   "outputs": [
    {
     "data": {
      "text/plain": [
       "str"
      ]
     },
     "execution_count": 2,
     "metadata": {},
     "output_type": "execute_result"
    }
   ],
   "source": [
    "type(name)"
   ]
  },
  {
   "cell_type": "code",
   "execution_count": 3,
   "id": "3d3da978",
   "metadata": {},
   "outputs": [
    {
     "data": {
      "text/plain": [
       "int"
      ]
     },
     "execution_count": 3,
     "metadata": {},
     "output_type": "execute_result"
    }
   ],
   "source": [
    "type(age)"
   ]
  },
  {
   "cell_type": "code",
   "execution_count": 4,
   "id": "a6e8e3cf",
   "metadata": {},
   "outputs": [
    {
     "data": {
      "text/plain": [
       "float"
      ]
     },
     "execution_count": 4,
     "metadata": {},
     "output_type": "execute_result"
    }
   ],
   "source": [
    "type(height)"
   ]
  },
  {
   "cell_type": "code",
   "execution_count": 5,
   "id": "0a8c2147",
   "metadata": {},
   "outputs": [
    {
     "name": "stdout",
     "output_type": "stream",
     "text": [
      "hola Marcos de 24 años\n"
     ]
    }
   ],
   "source": [
    "print(\"hola \"+ name + \" de \"+ str(age)+ \" años\")"
   ]
  },
  {
   "cell_type": "code",
   "execution_count": 6,
   "id": "c9cefaef",
   "metadata": {},
   "outputs": [
    {
     "name": "stdout",
     "output_type": "stream",
     "text": [
      "hola Marcos de 24 años\n"
     ]
    }
   ],
   "source": [
    "print(f\"hola {name} de {age} años\")"
   ]
  },
  {
   "cell_type": "markdown",
   "id": "da2d21b5",
   "metadata": {},
   "source": [
    "**2. Operaciones matemáticas**"
   ]
  },
  {
   "cell_type": "code",
   "execution_count": 7,
   "id": "74fca8e1",
   "metadata": {},
   "outputs": [],
   "source": [
    "x = 10\n",
    "y = -5\n",
    "z = .01"
   ]
  },
  {
   "cell_type": "code",
   "execution_count": 8,
   "id": "2a48daf5",
   "metadata": {},
   "outputs": [
    {
     "data": {
      "text/plain": [
       "5"
      ]
     },
     "execution_count": 8,
     "metadata": {},
     "output_type": "execute_result"
    }
   ],
   "source": [
    "y+x"
   ]
  },
  {
   "cell_type": "code",
   "execution_count": 9,
   "id": "74e58e5b",
   "metadata": {},
   "outputs": [
    {
     "data": {
      "text/plain": [
       "15"
      ]
     },
     "execution_count": 9,
     "metadata": {},
     "output_type": "execute_result"
    }
   ],
   "source": [
    "x-y"
   ]
  },
  {
   "cell_type": "code",
   "execution_count": 10,
   "id": "d6422dc3",
   "metadata": {},
   "outputs": [
    {
     "data": {
      "text/plain": [
       "0.1"
      ]
     },
     "execution_count": 10,
     "metadata": {},
     "output_type": "execute_result"
    }
   ],
   "source": [
    "x*z"
   ]
  },
  {
   "cell_type": "code",
   "execution_count": 11,
   "id": "3189480d",
   "metadata": {},
   "outputs": [
    {
     "data": {
      "text/plain": [
       "1000.0"
      ]
     },
     "execution_count": 11,
     "metadata": {},
     "output_type": "execute_result"
    }
   ],
   "source": [
    "x/z"
   ]
  },
  {
   "cell_type": "code",
   "execution_count": 12,
   "id": "8cc8f1af",
   "metadata": {},
   "outputs": [
    {
     "data": {
      "text/plain": [
       "1.023292992280754"
      ]
     },
     "execution_count": 12,
     "metadata": {},
     "output_type": "execute_result"
    }
   ],
   "source": [
    "10**z"
   ]
  },
  {
   "cell_type": "code",
   "execution_count": 13,
   "id": "bcf77482",
   "metadata": {},
   "outputs": [
    {
     "data": {
      "text/plain": [
       "2.0"
      ]
     },
     "execution_count": 13,
     "metadata": {},
     "output_type": "execute_result"
    }
   ],
   "source": [
    "4**(1/2)"
   ]
  },
  {
   "cell_type": "code",
   "execution_count": 14,
   "id": "086b7626",
   "metadata": {},
   "outputs": [
    {
     "data": {
      "text/plain": [
       "1"
      ]
     },
     "execution_count": 14,
     "metadata": {},
     "output_type": "execute_result"
    }
   ],
   "source": [
    "10%3"
   ]
  },
  {
   "cell_type": "markdown",
   "id": "799caeb8",
   "metadata": {},
   "source": [
    "Invitas 4 amigos a tu casa. Quieren pedir pizzas. Cada pizza tiene 8 rebanadas. Todos quieren comer la misma cantidad de rebanadas y ademas no quieren que sobre ninguna rebanada, ¿Cuantas pizzas deben pedir?"
   ]
  },
  {
   "cell_type": "code",
   "execution_count": 15,
   "id": "2dc075a4",
   "metadata": {},
   "outputs": [
    {
     "name": "stdout",
     "output_type": "stream",
     "text": [
      "Pediste 5 pizzas, lo cual son 40 rebanadas. Sobran 0 rebanadas\n"
     ]
    }
   ],
   "source": [
    "#INPUTS\n",
    "num_pers = 5\n",
    "num_pizza = 5\n",
    "num_reb = 8* num_pizza\n",
    "#ALGORITMO\n",
    "reb_sobrantes = num_reb%num_pers\n",
    "#OUTPUTS\n",
    "print(f\"Pediste {num_pizza} pizzas, lo cual son {num_reb} rebanadas. Sobran {reb_sobrantes} rebanadas\")"
   ]
  },
  {
   "cell_type": "markdown",
   "id": "f7e4f998",
   "metadata": {},
   "source": [
    "**3. Operaciones de comparación**"
   ]
  },
  {
   "cell_type": "code",
   "execution_count": 16,
   "id": "1cfb8dd3",
   "metadata": {},
   "outputs": [],
   "source": [
    "a = 7\n",
    "b = 5"
   ]
  },
  {
   "cell_type": "code",
   "execution_count": 17,
   "id": "bf6b2a70",
   "metadata": {},
   "outputs": [
    {
     "data": {
      "text/plain": [
       "True"
      ]
     },
     "execution_count": 17,
     "metadata": {},
     "output_type": "execute_result"
    }
   ],
   "source": [
    "a>b"
   ]
  },
  {
   "cell_type": "code",
   "execution_count": 18,
   "id": "f14e5781",
   "metadata": {},
   "outputs": [
    {
     "data": {
      "text/plain": [
       "False"
      ]
     },
     "execution_count": 18,
     "metadata": {},
     "output_type": "execute_result"
    }
   ],
   "source": [
    "(a/2*(1.355353535)**282)<b/2"
   ]
  },
  {
   "cell_type": "code",
   "execution_count": 19,
   "id": "e22ff294",
   "metadata": {},
   "outputs": [
    {
     "data": {
      "text/plain": [
       "False"
      ]
     },
     "execution_count": 19,
     "metadata": {},
     "output_type": "execute_result"
    }
   ],
   "source": [
    "a==b"
   ]
  },
  {
   "cell_type": "markdown",
   "id": "b5860cdd",
   "metadata": {},
   "source": [
    "Eres el cadenero en un antro! Solo deja pasar a personas que ya cumplieron los 18 años"
   ]
  },
  {
   "cell_type": "code",
   "execution_count": 20,
   "id": "fefbd47e",
   "metadata": {},
   "outputs": [],
   "source": [
    "edad = 17"
   ]
  },
  {
   "cell_type": "code",
   "execution_count": 21,
   "id": "b70b44f0",
   "metadata": {},
   "outputs": [
    {
     "data": {
      "text/plain": [
       "False"
      ]
     },
     "execution_count": 21,
     "metadata": {},
     "output_type": "execute_result"
    }
   ],
   "source": [
    "edad>=18"
   ]
  },
  {
   "cell_type": "markdown",
   "id": "c949f66a",
   "metadata": {},
   "source": [
    "**4. Operaciones lógicas**"
   ]
  },
  {
   "cell_type": "code",
   "execution_count": 22,
   "id": "1ade32b1",
   "metadata": {},
   "outputs": [
    {
     "data": {
      "text/plain": [
       "True"
      ]
     },
     "execution_count": 22,
     "metadata": {},
     "output_type": "execute_result"
    }
   ],
   "source": [
    "10>5"
   ]
  },
  {
   "cell_type": "code",
   "execution_count": 23,
   "id": "2dfc793d",
   "metadata": {},
   "outputs": [
    {
     "data": {
      "text/plain": [
       "True"
      ]
     },
     "execution_count": 23,
     "metadata": {},
     "output_type": "execute_result"
    }
   ],
   "source": [
    "10>3"
   ]
  },
  {
   "cell_type": "code",
   "execution_count": 24,
   "id": "eda98fcf",
   "metadata": {},
   "outputs": [
    {
     "data": {
      "text/plain": [
       "False"
      ]
     },
     "execution_count": 24,
     "metadata": {},
     "output_type": "execute_result"
    }
   ],
   "source": [
    "10>3 and 10<5"
   ]
  },
  {
   "cell_type": "code",
   "execution_count": 25,
   "id": "07449818",
   "metadata": {},
   "outputs": [
    {
     "data": {
      "text/plain": [
       "True"
      ]
     },
     "execution_count": 25,
     "metadata": {},
     "output_type": "execute_result"
    }
   ],
   "source": [
    "10>5 or 10<3"
   ]
  },
  {
   "cell_type": "markdown",
   "id": "93773a5b",
   "metadata": {},
   "source": [
    "Eres un servidor web. Tienes almacenado la contraseña y el usuario del unico miembro de tu comunidad. Verifica si la contraseña y el usuario son correctos"
   ]
  },
  {
   "cell_type": "code",
   "execution_count": 26,
   "id": "96bf9308",
   "metadata": {},
   "outputs": [],
   "source": [
    "#INFORMACION ORIGINAL\n",
    "password = \"ilovecats\"\n",
    "username = \"marcosraul\""
   ]
  },
  {
   "cell_type": "code",
   "execution_count": 29,
   "id": "78a8d6a3",
   "metadata": {},
   "outputs": [
    {
     "name": "stdout",
     "output_type": "stream",
     "text": [
      "Escribe tu usuario: marcosraul\n",
      "Escribe tu contraseña: jdjdsjs\n"
     ]
    }
   ],
   "source": [
    "usr = input(\"Escribe tu usuario: \")\n",
    "pss = input(\"Escribe tu contraseña: \")"
   ]
  },
  {
   "cell_type": "code",
   "execution_count": 30,
   "id": "74e6f3b7",
   "metadata": {},
   "outputs": [
    {
     "data": {
      "text/plain": [
       "False"
      ]
     },
     "execution_count": 30,
     "metadata": {},
     "output_type": "execute_result"
    }
   ],
   "source": [
    "#PROCESO DE VALIDACION\n",
    "password==pss and username==usr"
   ]
  },
  {
   "cell_type": "markdown",
   "id": "4dacab9a",
   "metadata": {},
   "source": [
    "**5. Condicionales**"
   ]
  },
  {
   "cell_type": "code",
   "execution_count": 1,
   "id": "529b2402",
   "metadata": {},
   "outputs": [
    {
     "name": "stdout",
     "output_type": "stream",
     "text": [
      "hola\n"
     ]
    }
   ],
   "source": [
    "if 10>5:\n",
    "    print(\"hola\")"
   ]
  },
  {
   "cell_type": "code",
   "execution_count": 2,
   "id": "062abfd0",
   "metadata": {},
   "outputs": [
    {
     "name": "stdout",
     "output_type": "stream",
     "text": [
      "Cual es tu edad?: 18\n",
      "puedes pasar\n"
     ]
    }
   ],
   "source": [
    "age = input (\"Cual es tu edad?: \")\n",
    "age = int(age)\n",
    "\n",
    "if age >= 18:\n",
    "    print(\"puedes pasar\")\n",
    "else:\n",
    "    print(\"no puedes pasar\")\n"
   ]
  },
  {
   "cell_type": "markdown",
   "id": "83f6830c",
   "metadata": {},
   "source": [
    "Necesitamos sabes la mejor relacion calidad-precio de un producto"
   ]
  },
  {
   "cell_type": "code",
   "execution_count": 3,
   "id": "596dc630",
   "metadata": {},
   "outputs": [],
   "source": [
    "precio_max= 12000\n",
    "calidad_min= 8"
   ]
  },
  {
   "cell_type": "code",
   "execution_count": 9,
   "id": "4571df82",
   "metadata": {},
   "outputs": [
    {
     "name": "stdout",
     "output_type": "stream",
     "text": [
      "Que nivel de calidad tiene?:8\n",
      "Cual es el precio?:13000\n"
     ]
    }
   ],
   "source": [
    "calidad=int(input(\"Que nivel de calidad tiene?:\"))\n",
    "money= int(input(\"Cual es el precio?:\"))\n",
    "if calidad >= calidad_min and money <= precio_max:\n",
    "    grade=10\n",
    "elif calidad >= calidad_min and money > precio_max:\n",
    "    grade=8\n",
    "elif calidad < calidad_min and money > precio_max:\n",
    "    grade=5\n",
    "else:\n",
    "    grade=0"
   ]
  },
  {
   "cell_type": "code",
   "execution_count": 10,
   "id": "3fc4e367",
   "metadata": {},
   "outputs": [
    {
     "data": {
      "text/plain": [
       "8"
      ]
     },
     "execution_count": 10,
     "metadata": {},
     "output_type": "execute_result"
    }
   ],
   "source": [
    "grade"
   ]
  },
  {
   "cell_type": "markdown",
   "id": "b752ae7c",
   "metadata": {},
   "source": [
    "**6. Listas**"
   ]
  },
  {
   "cell_type": "code",
   "execution_count": 11,
   "id": "ebacd79f",
   "metadata": {},
   "outputs": [],
   "source": [
    "amigos=[\"ana\",\"lester\",\"andy\"]"
   ]
  },
  {
   "cell_type": "code",
   "execution_count": 12,
   "id": "ea12733f",
   "metadata": {},
   "outputs": [
    {
     "data": {
      "text/plain": [
       "3"
      ]
     },
     "execution_count": 12,
     "metadata": {},
     "output_type": "execute_result"
    }
   ],
   "source": [
    "len(amigos)"
   ]
  },
  {
   "cell_type": "code",
   "execution_count": 13,
   "id": "b3777164",
   "metadata": {},
   "outputs": [
    {
     "data": {
      "text/plain": [
       "False"
      ]
     },
     "execution_count": 13,
     "metadata": {},
     "output_type": "execute_result"
    }
   ],
   "source": [
    "\"axel\"in amigos"
   ]
  },
  {
   "cell_type": "code",
   "execution_count": 14,
   "id": "9706535a",
   "metadata": {},
   "outputs": [],
   "source": [
    "amigos.remove(\"ana\")"
   ]
  },
  {
   "cell_type": "code",
   "execution_count": 21,
   "id": "569d9a57",
   "metadata": {},
   "outputs": [],
   "source": [
    "amigos.append(\"jose\")"
   ]
  },
  {
   "cell_type": "code",
   "execution_count": 22,
   "id": "0a885526",
   "metadata": {},
   "outputs": [
    {
     "data": {
      "text/plain": [
       "['lester', 'andy', 'jose']"
      ]
     },
     "execution_count": 22,
     "metadata": {},
     "output_type": "execute_result"
    }
   ],
   "source": [
    "amigos"
   ]
  },
  {
   "cell_type": "code",
   "execution_count": 16,
   "id": "170466bd",
   "metadata": {},
   "outputs": [
    {
     "ename": "ValueError",
     "evalue": "list.remove(x): x not in list",
     "output_type": "error",
     "traceback": [
      "\u001b[1;31m---------------------------------------------------------------------------\u001b[0m",
      "\u001b[1;31mValueError\u001b[0m                                Traceback (most recent call last)",
      "Cell \u001b[1;32mIn[16], line 1\u001b[0m\n\u001b[1;32m----> 1\u001b[0m \u001b[43mamigos\u001b[49m\u001b[38;5;241;43m.\u001b[39;49m\u001b[43mremove\u001b[49m\u001b[43m(\u001b[49m\u001b[38;5;124;43m\"\u001b[39;49m\u001b[38;5;124;43maxel\u001b[39;49m\u001b[38;5;124;43m\"\u001b[39;49m\u001b[43m)\u001b[49m\n",
      "\u001b[1;31mValueError\u001b[0m: list.remove(x): x not in list"
     ]
    }
   ],
   "source": [
    "amigos.remove(\"axel\")"
   ]
  },
  {
   "cell_type": "code",
   "execution_count": 23,
   "id": "4a7c2349",
   "metadata": {},
   "outputs": [
    {
     "data": {
      "text/plain": [
       "'andy'"
      ]
     },
     "execution_count": 23,
     "metadata": {},
     "output_type": "execute_result"
    }
   ],
   "source": [
    "amigos[1]"
   ]
  },
  {
   "cell_type": "code",
   "execution_count": 24,
   "id": "254837f8",
   "metadata": {},
   "outputs": [
    {
     "name": "stdout",
     "output_type": "stream",
     "text": [
      "0\n",
      "1\n",
      "2\n"
     ]
    }
   ],
   "source": [
    "for i in range(len(amigos)):\n",
    "    print(i)"
   ]
  },
  {
   "cell_type": "code",
   "execution_count": 25,
   "id": "3fca81c0",
   "metadata": {},
   "outputs": [],
   "source": [
    "platillos= [\"pizza\",\"sushi\"]"
   ]
  },
  {
   "cell_type": "code",
   "execution_count": 26,
   "id": "08134929",
   "metadata": {},
   "outputs": [
    {
     "name": "stdout",
     "output_type": "stream",
     "text": [
      "que te gustaria comer en la fiesta?: pasta\n",
      "['pizza', 'sushi', 'pasta']\n"
     ]
    }
   ],
   "source": [
    "order = input (\"que te gustaria comer en la fiesta?: \")\n",
    "platillos.append(order)\n",
    "print(platillos)"
   ]
  },
  {
   "cell_type": "markdown",
   "id": "12c826b0",
   "metadata": {},
   "source": [
    "### 7. Ciclos"
   ]
  },
  {
   "cell_type": "code",
   "execution_count": 27,
   "id": "c3184a46",
   "metadata": {},
   "outputs": [],
   "source": [
    "gastos= [200,10,25,69,81,57]"
   ]
  },
  {
   "cell_type": "code",
   "execution_count": 28,
   "id": "b5934517",
   "metadata": {},
   "outputs": [
    {
     "name": "stdout",
     "output_type": "stream",
     "text": [
      "442\n"
     ]
    }
   ],
   "source": [
    "total= 0\n",
    "\n",
    "for g in gastos:\n",
    "    total= total+g\n",
    "print(total)"
   ]
  },
  {
   "cell_type": "markdown",
   "id": "9c11b648",
   "metadata": {},
   "source": [
    "Antro: Eres el cadenero de un antro, si el hombre tiene al menos 18 años, lo dejas pasar. Si la mujer tiene al menos 16 años, la dejas pasar."
   ]
  },
  {
   "cell_type": "code",
   "execution_count": 29,
   "id": "db14435a",
   "metadata": {},
   "outputs": [],
   "source": [
    "fila= [[18,\"F\"],[17,\"M\"],[16,\"F\"]]"
   ]
  },
  {
   "cell_type": "code",
   "execution_count": 32,
   "id": "f9b9554c",
   "metadata": {},
   "outputs": [
    {
     "name": "stdout",
     "output_type": "stream",
     "text": [
      "puedes pasar\n",
      "no puedes pasar\n",
      "puedes pasar\n"
     ]
    }
   ],
   "source": [
    "for persona in fila:\n",
    "    if persona [1]== \"F\" and persona[0]>=16:\n",
    "        print(\"puedes pasar\")\n",
    "    elif persona [1] == \"M\" and persona[0]>=18:\n",
    "        print(\"pasale brother\")\n",
    "    else: \n",
    "        print(\"no puedes pasar\")"
   ]
  },
  {
   "cell_type": "markdown",
   "id": "fce9af3d",
   "metadata": {},
   "source": [
    "### 8. Funciones"
   ]
  },
  {
   "cell_type": "code",
   "execution_count": 7,
   "id": "58253a60",
   "metadata": {},
   "outputs": [],
   "source": [
    "def saludar(amigos):\n",
    "    for a in amigos:\n",
    "      print(f\"Buenos dias {a}\")"
   ]
  },
  {
   "cell_type": "code",
   "execution_count": 8,
   "id": "c47d5fff",
   "metadata": {},
   "outputs": [
    {
     "name": "stdout",
     "output_type": "stream",
     "text": [
      "Buenos dias m\n",
      "Buenos dias a\n",
      "Buenos dias r\n",
      "Buenos dias c\n",
      "Buenos dias o\n",
      "Buenos dias s\n"
     ]
    }
   ],
   "source": [
    "saludar(\"marcos\")"
   ]
  },
  {
   "cell_type": "code",
   "execution_count": 10,
   "id": "27d490ff",
   "metadata": {},
   "outputs": [
    {
     "name": "stdout",
     "output_type": "stream",
     "text": [
      "Buenos dias marcos\n",
      "Buenos dias lester\n",
      "Buenos dias ana\n"
     ]
    }
   ],
   "source": [
    "amigos= [\"marcos\",\"lester\",\"ana\"]\n",
    "\n",
    "saludar (amigos)"
   ]
  },
  {
   "cell_type": "markdown",
   "id": "aea76228",
   "metadata": {},
   "source": [
    "While"
   ]
  },
  {
   "cell_type": "code",
   "execution_count": 11,
   "id": "2c4cee3a",
   "metadata": {},
   "outputs": [
    {
     "name": "stdout",
     "output_type": "stream",
     "text": [
      "0\n",
      "1\n",
      "2\n",
      "3\n",
      "4\n",
      "5\n",
      "6\n",
      "7\n",
      "8\n",
      "9\n",
      "10\n"
     ]
    }
   ],
   "source": [
    "contador=0\n",
    "while contador <=10:\n",
    "    print(contador)\n",
    "    contador=contador+1"
   ]
  },
  {
   "cell_type": "code",
   "execution_count": 15,
   "id": "f616aa29",
   "metadata": {},
   "outputs": [],
   "source": [
    "def Range(n):\n",
    "    contador=0\n",
    "    while contador <n:\n",
    "        print (contador)\n",
    "        contador = contador +1"
   ]
  },
  {
   "cell_type": "code",
   "execution_count": 16,
   "id": "43edd70d",
   "metadata": {},
   "outputs": [
    {
     "name": "stdout",
     "output_type": "stream",
     "text": [
      "0\n",
      "1\n",
      "2\n",
      "3\n",
      "4\n",
      "5\n",
      "6\n",
      "7\n",
      "8\n",
      "9\n"
     ]
    }
   ],
   "source": [
    "Range(10)"
   ]
  },
  {
   "cell_type": "markdown",
   "id": "1771845c",
   "metadata": {},
   "source": [
    "Funcion elaborada para el problema de la pizza."
   ]
  },
  {
   "cell_type": "code",
   "execution_count": 19,
   "id": "34831b46",
   "metadata": {},
   "outputs": [],
   "source": [
    "def pizza(num_personas,rebxpizza):\n",
    "    num_pizzas=1\n",
    "    rebanadas_tot=num_pizzas*rebxpizza\n",
    "    sobrante = rebanadas_tot%num_personas\n",
    "    while sobrante !=0:\n",
    "        num_pizzas=num_pizzas+1\n",
    "        rebanadas_tot=num_pizzas*rebxpizza\n",
    "        sobrante = rebanadas_tot%num_personas\n",
    "    print(f\"{num_personas} deben pedir {num_pizzas} pizzas, para que cada quien coma {rebanadas_tot/num_personas} rebanadas\")\n",
    "        "
   ]
  },
  {
   "cell_type": "code",
   "execution_count": 20,
   "id": "c04b4c5e",
   "metadata": {},
   "outputs": [
    {
     "name": "stdout",
     "output_type": "stream",
     "text": [
      "10 deben pedir 5 pizzas, para que cada quien coma 2.0 rebanadas\n"
     ]
    }
   ],
   "source": [
    "pizza(10,4)"
   ]
  },
  {
   "cell_type": "code",
   "execution_count": null,
   "id": "968d156d",
   "metadata": {},
   "outputs": [],
   "source": []
  }
 ],
 "metadata": {
  "kernelspec": {
   "display_name": "Python 3 (ipykernel)",
   "language": "python",
   "name": "python3"
  },
  "language_info": {
   "codemirror_mode": {
    "name": "ipython",
    "version": 3
   },
   "file_extension": ".py",
   "mimetype": "text/x-python",
   "name": "python",
   "nbconvert_exporter": "python",
   "pygments_lexer": "ipython3",
   "version": "3.11.2"
  }
 },
 "nbformat": 4,
 "nbformat_minor": 5
}
